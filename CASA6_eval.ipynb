{
  "nbformat": 4,
  "nbformat_minor": 0,
  "metadata": {
    "colab": {
      "name": "CASA6_eval.ipynb",
      "version": "0.3.2",
      "provenance": [],
      "collapsed_sections": [],
      "include_colab_link": true
    },
    "kernelspec": {
      "name": "python3",
      "display_name": "Python 3"
    }
  },
  "cells": [
    {
      "cell_type": "markdown",
      "metadata": {
        "id": "view-in-github",
        "colab_type": "text"
      },
      "source": [
        "<a href=\"https://colab.research.google.com/github/ryanraba/casa6/blob/master/CASA6_eval.ipynb\" target=\"_parent\"><img src=\"https://colab.research.google.com/assets/colab-badge.svg\" alt=\"Open In Colab\"/></a>"
      ]
    },
    {
      "metadata": {
        "id": "IIr5sp0VgR2m",
        "colab_type": "code",
        "colab": {}
      },
      "cell_type": "code",
      "source": [
        "print(\"installing pre-requisite packages...\")\n",
        "!apt-get install python-casacore > /dev/null\n",
        "!apt-get install libgfortran3 > /dev/null\n",
        "!mkdir wheels > /dev/null\n",
        "import urllib.request\n",
        "\n",
        "print(\"downloading wheels...\")\n",
        "urllib.request.urlretrieve(\"https://www.cv.nrao.edu/~rraba/wheels/casa6wheels.tar.gz\", \"wheels/casa6wheels.tar.gz\")\n",
        "\n",
        "print(\"extracting and installing...\")\n",
        "!tar -xvf wheels/casa6wheels.tar.gz -C wheels/ > /dev/null\n",
        "!rm wheels/casa6wheels.tar.gz\n",
        "!pip install --no-index --find-links wheels/ -r wheels/requirements.txt > /dev/null\n",
        "\n",
        "print(\"downloading MeasurementSet from CASAguide First Look at Imaging\")\n",
        "urllib.request.urlretrieve(\"https://bulk.cv.nrao.edu/almadata/public/working/sis14_twhya_calibrated_flagged.ms.tar\", \"sis14_twhya_calibrated_flagged.ms.tar\")\n",
        "\n",
        "!tar -xvf sis14_twhya_calibrated_flagged.ms.tar > /dev/null\n",
        "!rm sis14_twhya_calibrated_flagged.ms.tar"
      ],
      "execution_count": 0,
      "outputs": []
    },
    {
      "metadata": {
        "id": "R6KsW1NvgsQs",
        "colab_type": "code",
        "colab": {
          "base_uri": "https://localhost:8080/",
          "height": 207
        },
        "outputId": "f456142b-85cd-40d9-bb18-d2364eba6393"
      },
      "cell_type": "code",
      "source": [
        "from casatasks import listobs\n",
        "\n",
        "rc = listobs(vis='sis14_twhya_calibrated_flagged.ms')\n",
        "\n",
        "!tail casa-*.log"
      ],
      "execution_count": 7,
      "outputs": [
        {
          "output_type": "stream",
          "text": [
            "2019-03-28 19:52:30\tINFO\tlistobs::ms::summary+\t  15   DV10  A071      12.0 m   -067.45.19.9  -22.53.23.5        -60.7887     -563.2541       23.3799  2225011.141945 -5440147.560932 -2481557.855663\n",
            "2019-03-28 19:52:30\tINFO\tlistobs::ms::summary+\t  16   DV13  A072      12.0 m   -067.45.12.6  -22.53.24.0        147.1742     -580.5887       18.1825  2225199.254375 -5440058.161494 -2481571.803699\n",
            "2019-03-28 19:52:30\tINFO\tlistobs::ms::summary+\t  17   DV15  A074      12.0 m   -067.45.12.1  -22.53.32.0        161.8159     -828.6196       18.7688  2225176.483514 -5439963.820451 -2481800.529842\n",
            "2019-03-28 19:52:30\tINFO\tlistobs::ms::summary+\t  18   DV16  A069      12.0 m   -067.45.21.3  -22.53.30.2       -101.4797     -770.1047       23.2972  2224942.993176 -5440088.421459 -2481748.384855\n",
            "2019-03-28 19:52:30\tINFO\tlistobs::ms::summary+\t  19   DV17  A138      12.0 m   -067.45.17.1  -22.53.34.4         19.1461     -901.2603       26.0137  2225036.269025 -5439997.853009 -2481870.267607\n",
            "2019-03-28 19:52:30\tINFO\tlistobs::ms::summary+\t  20   DV18  A053      12.0 m   -067.45.17.3  -22.53.31.2         12.5939     -802.9941       21.5281  2225043.111690 -5440031.889497 -2481777.995870\n",
            "2019-03-28 19:52:30\tINFO\tlistobs::ms::summary+\t  21   DV19  A008      12.0 m   -067.45.15.4  -22.53.26.8         67.5592     -667.6872       20.9574  2225113.709955 -5440059.310545 -2481653.122797\n",
            "2019-03-28 19:52:30\tINFO\tlistobs::ms::summary+\t  22   DV20  A020      12.0 m   -067.45.17.8  -22.53.28.0         -2.9649     -703.4389       21.6629  2225043.419055 -5440073.737929 -2481686.333574\n",
            "2019-03-28 19:52:30\tINFO\tlistobs::ms::summary+\t  24   DV22  A011      12.0 m   -067.45.14.4  -22.53.28.4         95.9131     -716.5005       21.0898  2225132.810230 -5440031.115405 -2481698.143589\n",
            "2019-03-28 19:52:30\tINFO\tlistobs::ms::summary+\t  25   DV23  A007      12.0 m   -067.45.15.1  -22.53.27.3         74.0152     -681.2926       21.3231  2225117.809276 -5440052.280005 -2481665.799049\n"
          ],
          "name": "stdout"
        }
      ]
    }
  ]
}