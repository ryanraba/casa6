{
  "nbformat": 4,
  "nbformat_minor": 0,
  "metadata": {
    "colab": {
      "name": "CARTA_demo.ipynb",
      "version": "0.3.2",
      "provenance": [],
      "collapsed_sections": [],
      "include_colab_link": true
    },
    "kernelspec": {
      "name": "python3",
      "display_name": "Python 3"
    }
  },
  "cells": [
    {
      "cell_type": "markdown",
      "metadata": {
        "id": "view-in-github",
        "colab_type": "text"
      },
      "source": [
        "<a href=\"https://colab.research.google.com/github/ryanraba/casa6/blob/master/CARTA_demo.ipynb\" target=\"_parent\"><img src=\"https://colab.research.google.com/assets/colab-badge.svg\" alt=\"Open In Colab\"/></a>"
      ]
    },
    {
      "cell_type": "markdown",
      "metadata": {
        "id": "mD41Vcq4Gkqa",
        "colab_type": "text"
      },
      "source": [
        "# Download and install CARTA and a test image"
      ]
    },
    {
      "cell_type": "code",
      "metadata": {
        "id": "cvNjbiWDZ3C9",
        "colab_type": "code",
        "colab": {}
      },
      "source": [
        "import os\n",
        "\n",
        "CARTA = \"CARTA-v1.1-remote\"    # keep this updated to desired version\n",
        "\n",
        "print(\"downloading an image from CASAguide First Look at Imaging...\")\n",
        "os.system(\"wget -r -np -nH https://bulk.cv.nrao.edu/synth/dred_workshops/sis14/working_data/sis14_twhya_cont.image/\")\n",
        "os.system(\"mv synth/dred_workshops/sis14/working_data/sis14_twhya_cont.image /content/.\")\n",
        "\n",
        "print(\"downloading ngrok...\")\n",
        "os.system(\"wget https://bin.equinox.io/c/4VmDzA7iaHb/ngrok-stable-linux-amd64.zip\")\n",
        "os.system(\"unzip -o ngrok-stable-linux-amd64.zip\");\n",
        "\n",
        "print(\"downloading \" + CARTA + \"...\")\n",
        "os.system(\"wget https://github.com/CARTAvis/carta-releases/releases/download/v1.1/CARTA-v1.1-remote.tar.gz\")\n",
        "os.system(\"tar -xvf \"+CARTA+\".tar.gz\")\n",
        "os.system(\"rm \"+CARTA+\"/carta-backend/lib/libstdc++.so.6\")\n",
        "\n",
        "print(\"installing some network libraries...\")\n",
        "os.system(\"apt-get install iproute2\")\n",
        "os.system(\"apt-get install iputils-ping\")\n",
        "os.system(\"apt-get install net-tools\")\n",
        "os.system(\"rm -r sample_data\")\n",
        "print('complete')"
      ],
      "execution_count": 0,
      "outputs": []
    },
    {
      "cell_type": "markdown",
      "metadata": {
        "id": "AZ5laOMZG5st",
        "colab_type": "text"
      },
      "source": [
        "# Execute CARTA backend\n",
        "This will spawn three processes, one for the CARTA backend and two for https tunneling through the firewall. This allows for remote connection directly to the Jupyter virtual environment runtime.  \n",
        "\n",
        "\n",
        "Click on the output link to open a new browser tab with the CARTA web app."
      ]
    },
    {
      "cell_type": "code",
      "metadata": {
        "id": "RpNEu5FWf1cU",
        "colab_type": "code",
        "colab": {}
      },
      "source": [
        "import subprocess as sp\n",
        "import socket\n",
        "import signal\n",
        "import time\n",
        "import requests\n",
        "\n",
        "FRONT_PORT = '39118'  # make something up\n",
        "BACK_PORT = '41567'\n",
        "HOST_IP = socket.gethostbyname(socket.gethostname()) \n",
        "\n",
        "cp = sp.Popen(CARTA+'/carta --port='+BACK_PORT + ' --fport='+FRONT_PORT, shell=True, preexec_fn=os.setsid, stdin=sp.PIPE, stdout=sp.PIPE, stderr=sp.STDOUT)\n",
        "gp1 = sp.Popen('./ngrok http ' + HOST_IP+':'+FRONT_PORT, shell=True, preexec_fn=os.setsid, stdin=sp.PIPE, stdout=sp.PIPE, stderr=sp.STDOUT)\n",
        "gp2 = sp.Popen('./ngrok http ' + HOST_IP+':'+BACK_PORT, shell=True, preexec_fn=os.setsid, stdin=sp.PIPE, stdout=sp.PIPE, stderr=sp.STDOUT)\n",
        "\n",
        "time.sleep(2) # give the processes time to start\n",
        "fcon = requests.get('http://localhost:4040/api/tunnels').json()['tunnels']\n",
        "bcon = requests.get('http://localhost:4041/api/tunnels').json()['tunnels']\n",
        "furl = [fcon[ii]['public_url'] for ii in range(len(fcon)) if fcon[ii]['proto'] == 'https'][0]\n",
        "burl = [bcon[ii]['public_url'] for ii in range(len(bcon)) if bcon[ii]['proto'] == 'https'][0]\n",
        "print('click this -> ' + furl +'/?socketUrl=' + burl.replace('https','wss'))"
      ],
      "execution_count": 0,
      "outputs": []
    },
    {
      "cell_type": "code",
      "metadata": {
        "id": "hNxHYS1WhftL",
        "colab_type": "code",
        "colab": {}
      },
      "source": [
        "# turn it off\n",
        "os.killpg(os.getpgid(gp1.pid), signal.SIGTERM)\n",
        "os.killpg(os.getpgid(gp2.pid), signal.SIGTERM)\n",
        "os.killpg(os.getpgid(cp.pid), signal.SIGTERM)\n",
        "print(\"stopped CARTA and the secure tunnels\")"
      ],
      "execution_count": 0,
      "outputs": []
    },
    {
      "cell_type": "code",
      "metadata": {
        "colab_type": "code",
        "id": "kz3ktM-r6HdB",
        "colab": {}
      },
      "source": [
        "# if something goes wrong, you may wish to inspect one of the following:\n",
        "\n",
        "#cp.stdout.readline().decode('utf-8')\n",
        "#!netstat -na | grep $FRONT_PORT\n",
        "#!netstat -na | grep $BACK_PORT"
      ],
      "execution_count": 0,
      "outputs": []
    }
  ]
}