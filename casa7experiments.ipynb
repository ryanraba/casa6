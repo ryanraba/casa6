{
  "nbformat": 4,
  "nbformat_minor": 0,
  "metadata": {
    "colab": {
      "name": "casa7experiments.ipynb",
      "version": "0.3.2",
      "provenance": [],
      "collapsed_sections": [
        "6WoxxqRWENYa",
        "YCWV-EEMK34z",
        "yyL1REiyJJIT",
        "txYoU79l_o-a",
        "CRf2aZUM4GBy"
      ],
      "include_colab_link": true
    },
    "kernelspec": {
      "name": "python3",
      "display_name": "Python 3"
    },
    "accelerator": "GPU"
  },
  "cells": [
    {
      "cell_type": "markdown",
      "metadata": {
        "id": "view-in-github",
        "colab_type": "text"
      },
      "source": [
        "<a href=\"https://colab.research.google.com/github/ryanraba/casa6/blob/master/casa7experiments.ipynb\" target=\"_parent\"><img src=\"https://colab.research.google.com/assets/colab-badge.svg\" alt=\"Open In Colab\"/></a>"
      ]
    },
    {
      "cell_type": "markdown",
      "metadata": {
        "id": "5xAxbeSkCwg6",
        "colab_type": "text"
      },
      "source": [
        "# Setup libraries, tools, data etc\n"
      ]
    },
    {
      "cell_type": "code",
      "metadata": {
        "id": "50o-JqkvXTTS",
        "colab_type": "code",
        "outputId": "4e00306b-5b3f-49d9-8969-14bceb894ca1",
        "colab": {
          "base_uri": "https://localhost:8080/",
          "height": 85
        }
      },
      "source": [
        "import os\n",
        "print(\"installing pre-requisite packages...\")\n",
        "os.system(\"pip install pyarrow\")\n",
        "os.system(\"pip install tables --upgrade\")  # need latest version to load hdf5 correctly\n",
        "os.system(\"apt-get install libgfortran3\")\n",
        "\n",
        "print(\"installing casatasks...\")\n",
        "os.system(\"pip install --extra-index-url https://casa-pip.nrao.edu:443/repository/pypi-group/simple casatools\")\n",
        "os.system(\"pip install --extra-index-url https://casa-pip.nrao.edu:443/repository/pypi-group/simple casatasks\")\n",
        "\n",
        "print(\"downloading MeasurementSet from CASAguide First Look at Imaging\")\n",
        "os.system(\"wget https://bulk.cv.nrao.edu/almadata/public/working/sis14_twhya_calibrated_flagged.ms.tar\")\n",
        "os.system(\"tar -xvf sis14_twhya_calibrated_flagged.ms.tar\")\n",
        "\n",
        "print('complete')"
      ],
      "execution_count": 1,
      "outputs": [
        {
          "output_type": "stream",
          "text": [
            "installing pre-requisite packages...\n",
            "installing casatasks...\n",
            "downloading MeasurementSet from CASAguide First Look at Imaging\n",
            "complete\n"
          ],
          "name": "stdout"
        }
      ]
    },
    {
      "cell_type": "code",
      "metadata": {
        "id": "ZpfmTWxySLWT",
        "colab_type": "code",
        "colab": {}
      },
      "source": [
        "# keep this updated if dataset changes\n",
        "prefix = 'sis14_twhya_calibrated_flagged'"
      ],
      "execution_count": 0,
      "outputs": []
    },
    {
      "cell_type": "markdown",
      "metadata": {
        "id": "6WoxxqRWENYa",
        "colab_type": "text"
      },
      "source": [
        "# Convert MS to HDF5 and Apache Parquet formats"
      ]
    },
    {
      "cell_type": "code",
      "metadata": {
        "id": "i8SSUIYIewyt",
        "colab_type": "code",
        "outputId": "906bffe1-2a7b-4539-9d07-0ba3fad8bb0c",
        "colab": {
          "base_uri": "https://localhost:8080/",
          "height": 119
        }
      },
      "source": [
        "from casatools import table as tb\n",
        "import pandas as pd\n",
        "import numpy as np\n",
        "import pyarrow as pa\n",
        "import pyarrow.parquet as pq\n",
        "import warnings\n",
        "import os\n",
        "warnings.simplefilter(action='ignore', category=pd.errors.PerformanceWarning)\n",
        "\n",
        "print(\"processing MS...\")\n",
        "\n",
        "MS = tb(prefix+'.ms')\n",
        "MS.open(prefix+'.ms')\n",
        "cols = MS.colnames()\n",
        "\n",
        "# build python dictionary one MS column at a time\n",
        "md = {}\n",
        "for col in cols:\n",
        "  if MS.isvarcol(col):  # this is a woefully unhelpful way to return data\n",
        "    varcol = MS.getvarcol(col)\n",
        "    md[col] = [varcol['r'+str(ii+1)] for ii in range(len(varcol))]\n",
        "    if np.ndim(md[col][0]) > 1: # get rid of nested multi-dimensional arrays\n",
        "      md[col] = [np.squeeze(md[col][rr]) for rr in range(len(md[col]))]\n",
        "      for cc in range(md[col][0].shape[0]): # split smaller dimension in to separate cols\n",
        "        md[col+str(cc)] = [md[col][rr][cc] for rr in range(len(md[col]))]\n",
        "      md.pop(col, None)\n",
        "  else:  # would have been nice if both methods had just returned lists of arrays\n",
        "    md[col] = list(np.squeeze(MS.getcol(col)))\n",
        "\n",
        "MS.close()\n",
        "\n",
        "# we need to fix up a few things\n",
        "# first, split out UVW in to separate columns\n",
        "print('cleaning up dataframe...')\n",
        "md['UU'] = md['UVW'][0]\n",
        "md['VV'] = md['UVW'][1]\n",
        "md['WW'] = md['UVW'][2]\n",
        "md.pop('UVW',None)\n",
        "\n",
        "# now let's compress the nested flag arrays in to strings\n",
        "for label in ['FLAG0', 'FLAG1']:\n",
        "  flags = md[label]\n",
        "  md[label] = [np.array_str(flags[rr], max_line_width=9999999) for rr in range(len(flags))]\n",
        "\n",
        "print(\"writing to Parquet...\")\n",
        "# for some reason, Parquet doesn't seem to like bool or complex arrays\n",
        "# so we need to convert everything to int or float arrays instead\n",
        "mdf = pd.DataFrame(data=md)\n",
        "mdf['DATA0R'] = [np.real(mdf.DATA0[rr]) for rr in range(len(mdf))]\n",
        "mdf['DATA0I'] = [np.imag(mdf.DATA0[rr]) for rr in range(len(mdf))]\n",
        "mdf['DATA1R'] = [np.real(mdf.DATA1[rr]) for rr in range(len(mdf))]\n",
        "mdf['DATA1I'] = [np.imag(mdf.DATA1[rr]) for rr in range(len(mdf))]\n",
        "cols = [col for col in mdf.keys() if col not in ['DATA0', 'DATA1']]\n",
        "os.system(\"rm -r *.parquet\") # doesn't like to overwrite existing files\n",
        "pq.write_to_dataset(pa.Table.from_pandas(mdf[cols]), \n",
        "                    root_path=prefix+'.parquet',\n",
        "                    flavor='spark',\n",
        "                    partition_cols=['ANTENNA1','ANTENNA2'])\n",
        "\n",
        "# nested arrays in the dataframe columns can be a pain\n",
        "# so we'll split out these instances in to separate columns\n",
        "print('flattening dataframe...')\n",
        "for label in ['DATA0', 'DATA1']:\n",
        "  tmp = np.array(md[label])\n",
        "  for chan in range(tmp.shape[1]):\n",
        "    md[label+'_'+str(chan)] = tmp[:,chan]\n",
        "  md.pop(label, None)\n",
        "\n",
        "print(\"writing to HDF5...\")\n",
        "mdf = pd.DataFrame(data=md)\n",
        "mdf.to_hdf(prefix+'.h5', key='mdf', mode='w')    # faster format for pandas and tensorflow\n",
        "mdf.to_hdf(prefix+'.d.h5', key='mdf', mode='w', format='table')  # chunkable format for dask\n",
        "\n",
        "print(\"complete\")"
      ],
      "execution_count": 9,
      "outputs": [
        {
          "output_type": "stream",
          "text": [
            "processing MS...\n",
            "cleaning up dataframe...\n",
            "writing to Parquet...\n",
            "flattening dataframe...\n",
            "writing to HDF5...\n",
            "complete\n"
          ],
          "name": "stdout"
        }
      ]
    },
    {
      "cell_type": "code",
      "metadata": {
        "id": "LEzeupGweNZv",
        "colab_type": "code",
        "colab": {}
      },
      "source": [
        "# free memory\n",
        "md, mdf, tmp, flags = [[],[],[],[]]"
      ],
      "execution_count": 0,
      "outputs": []
    },
    {
      "cell_type": "markdown",
      "metadata": {
        "id": "YCWV-EEMK34z",
        "colab_type": "text"
      },
      "source": [
        "# CPU Processing with Pandas/Numpy"
      ]
    },
    {
      "cell_type": "code",
      "metadata": {
        "id": "FG7NRcepTc7-",
        "colab_type": "code",
        "outputId": "d48bb742-f383-4a30-8f41-2ffaeb63173f",
        "colab": {
          "base_uri": "https://localhost:8080/",
          "height": 204
        }
      },
      "source": [
        "import numpy as np\n",
        "import pandas as pd\n",
        "import time\n",
        "\n",
        "# load pandas dataframe\n",
        "pdf = pd.read_hdf(prefix+'.h5', key='mdf')\n",
        "\n",
        "d0 = pdf.columns.values[pdf.columns.str.startswith('DATA0_')]\n",
        "d1 = pdf.columns.values[pdf.columns.str.startswith('DATA1_')]\n",
        "\n",
        "# start the race\n",
        "start = time.time()\n",
        "\n",
        "################################################################\n",
        "# I don't really know what we do with the second set of points, so lets just average in to the first\n",
        "# if the following operations don't make sense, check out the DataFrame tutorial at the bottom of this notebook\n",
        "vis = (pdf[d0].values + pdf[d1].values)/2\n",
        "vdf = pd.DataFrame(vis)\n",
        "\n",
        "CONT_RMS = vdf.abs().pow(2).mean(axis=1).pow(0.5)\n",
        "CONT_MAX = vdf.abs().max(axis=1)\n",
        "CONT_STD = vdf.abs().std(axis=1)\n",
        "\n",
        "################################################################\n",
        "print('pandas elapsed time (s): ', time.time() - start)\n",
        "\n",
        "print(vdf.iloc[99].values[:10])\n",
        "print(CONT_RMS.values)\n",
        "print(CONT_MAX.values)\n",
        "print(CONT_STD.values)\n"
      ],
      "execution_count": 3,
      "outputs": [
        {
          "output_type": "stream",
          "text": [
            "pandas elapsed time (s):  5.0751426219940186\n",
            "[13.54471254 -4.17907533j 11.38541317 -1.468117j\n",
            "  6.51205455 -0.63292367j  4.22940874 -8.97885489j\n",
            " 16.40296173 -3.08799507j  7.35137585 -1.7305609j\n",
            "  4.10938323 -3.54848051j 10.18194199 -1.71122259j\n",
            "  9.92670894 -4.06110525j  4.69709611-13.00634623j]\n",
            "[10.4100553  10.48297409 10.37487385 ... 10.95658076 10.37941196\n",
            "  8.49994653]\n",
            "[25.62491703 21.06853462 21.71281421 ... 29.41012952 27.53062948\n",
            " 27.83868841]\n",
            "[4.14727133 4.16223349 3.88061166 ... 5.05826952 4.64526106 4.07835405]\n"
          ],
          "name": "stdout"
        }
      ]
    },
    {
      "cell_type": "code",
      "metadata": {
        "id": "oyUcToKceqA9",
        "colab_type": "code",
        "colab": {}
      },
      "source": [
        ""
      ],
      "execution_count": 0,
      "outputs": []
    },
    {
      "cell_type": "markdown",
      "metadata": {
        "id": "5zljCL8jMvWY",
        "colab_type": "text"
      },
      "source": [
        "#  CPU Processing with Apache Spark\n",
        "https://spark.apache.org/docs/latest/api/python/index.html\n",
        "\n",
        "https://spark.apache.org/docs/latest/rdd-programming-guide.html"
      ]
    },
    {
      "cell_type": "code",
      "metadata": {
        "id": "PDq9WAdhCngg",
        "colab_type": "code",
        "outputId": "4e48e36a-ed33-40a4-b7ff-5c3e6c199531",
        "colab": {
          "base_uri": "https://localhost:8080/",
          "height": 51
        }
      },
      "source": [
        "# install and configure PySpark\n",
        "import os\n",
        "print(\"installing spark...\")\n",
        "os.system(\"apt-get install openjdk-8-jdk-headless -qq\")\n",
        "os.system(\"pip install findspark\")\n",
        "os.system(\"wget https://www-us.apache.org/dist/spark/spark-2.4.3/spark-2.4.3-bin-hadoop2.7.tgz\")\n",
        "os.system(\"tar -xvzf spark-2.4.3-bin-hadoop2.7.tgz\")\n",
        "\n",
        "os.environ[\"JAVA_HOME\"] = \"/usr/lib/jvm/java-8-openjdk-amd64\"\n",
        "os.environ[\"SPARK_HOME\"] = \"/content/spark-2.4.3-bin-hadoop2.7\"\n",
        "print('complete') "
      ],
      "execution_count": 25,
      "outputs": [
        {
          "output_type": "stream",
          "text": [
            "installing spark...\n",
            "complete\n"
          ],
          "name": "stdout"
        }
      ]
    },
    {
      "cell_type": "code",
      "metadata": {
        "id": "5axx4SEqqiRb",
        "colab_type": "code",
        "outputId": "842d053e-c411-49d2-ebd9-a5595795833a",
        "colab": {
          "base_uri": "https://localhost:8080/",
          "height": 272
        }
      },
      "source": [
        "print('initializing spark...') \n",
        "import findspark\n",
        "findspark.init()\n",
        "from pyspark.sql import SparkSession\n",
        "spark = SparkSession.builder.config('spark.driver.memory', '6g')\n",
        "spark = spark.config('spark.executor.memory', '4g')\n",
        "spark = spark.config('spark.executor.cores', '4')\n",
        "spark = spark.config('spark.sql.execution.arrow.enabled', 'True')\n",
        "spark = spark.master(\"local[*]\").getOrCreate()\n",
        "spark.sparkContext._conf.getAll() "
      ],
      "execution_count": 26,
      "outputs": [
        {
          "output_type": "stream",
          "text": [
            "initializing spark...\n"
          ],
          "name": "stdout"
        },
        {
          "output_type": "execute_result",
          "data": {
            "text/plain": [
              "[('spark.executor.memory', '4g'),\n",
              " ('spark.driver.host', '15ea9e1473ae'),\n",
              " ('spark.executor.id', 'driver'),\n",
              " ('spark.app.name', 'pyspark-shell'),\n",
              " ('spark.executor.cores', '4'),\n",
              " ('spark.driver.port', '34047'),\n",
              " ('spark.app.id', 'local-1560109208243'),\n",
              " ('spark.driver.memory', '6g'),\n",
              " ('spark.rdd.compress', 'True'),\n",
              " ('spark.serializer.objectStreamReset', '100'),\n",
              " ('spark.master', 'local[*]'),\n",
              " ('spark.submit.deployMode', 'client'),\n",
              " ('spark.sql.execution.arrow.enabled', 'True'),\n",
              " ('spark.ui.showConsoleProgress', 'true')]"
            ]
          },
          "metadata": {
            "tags": []
          },
          "execution_count": 26
        }
      ]
    },
    {
      "cell_type": "code",
      "metadata": {
        "id": "7Xohcbc8NsCa",
        "colab_type": "code",
        "outputId": "e6902845-faf6-483e-af02-2602bd49488c",
        "colab": {
          "base_uri": "https://localhost:8080/",
          "height": 153
        }
      },
      "source": [
        "import numpy as np\n",
        "import time\n",
        "\n",
        "# load spark dataframe\n",
        "sdf = spark.read.parquet(prefix+'.parquet')\n",
        "sdf.cache()\n",
        "sdf.count() # trigger a load to cache data in memory\n",
        "\n",
        "# start the race\n",
        "start = time.time()\n",
        "\n",
        "################################################################\n",
        "# here are our map operations to be run on each row independently\n",
        "def processElement(element):  \n",
        "  c0 = (np.array(element.DATA0R) + 1j*np.array(element.DATA0I)).astype(np.complex64)\n",
        "  c1 = (np.array(element.DATA1R) + 1j*np.array(element.DATA1I)).astype(np.complex64)\n",
        "  vis = (c0 + c1)/2\n",
        "  \n",
        "  CONT_RMS = np.sqrt(np.mean(np.power(np.abs(vis),2), axis=0))\n",
        "  CONT_MAX = np.max(np.abs(vis), axis=0)\n",
        "  CONT_STD = np.std(np.abs(vis), axis=0)\n",
        "  \n",
        "  return vis, CONT_RMS, CONT_MAX, CONT_STD\n",
        "  \n",
        "# fire off our map function\n",
        "prdd = sdf.rdd.map(lambda row: processElement(row)).collect()\n",
        "\n",
        "################################################################\n",
        "print('spark elapsed time (s): ', time.time() - start)\n",
        "\n",
        "print(np.array(prdd)[99][0][:10])\n",
        "print(np.array(prdd)[:,1])\n",
        "print(np.array(prdd)[:,2])\n",
        "print(np.array(prdd)[:,3])"
      ],
      "execution_count": 35,
      "outputs": [
        {
          "output_type": "stream",
          "text": [
            "spark elapsed time (s):  33.90123462677002\n",
            "[15.368347  +3.496803j   2.352149  +6.232252j  -2.8458345 -3.4297054j\n",
            " -0.3756826 -4.024106j   2.6655807 -5.9877825j  0.42628008-4.511368j\n",
            "  3.692929  +4.503709j   7.998578  +6.80622j   11.813255  +4.1906047j\n",
            " -1.5166845 +6.9134226j]\n",
            "[11.02426 10.730138 10.810746 ... 12.037731 11.975934 12.026075]\n",
            "[24.063694 23.316742 23.461426 ... 29.285095 26.563631 29.69375]\n",
            "[4.315754 4.5817556 4.179552 ... 5.626123 5.6413765 5.4935527]\n"
          ],
          "name": "stdout"
        }
      ]
    },
    {
      "cell_type": "markdown",
      "metadata": {
        "id": "yyL1REiyJJIT",
        "colab_type": "text"
      },
      "source": [
        "# CPU Processing with Dask\n",
        "https://examples.dask.org/dataframe.html"
      ]
    },
    {
      "cell_type": "code",
      "metadata": {
        "id": "tSsXXRdQJOIr",
        "colab_type": "code",
        "outputId": "5385b372-ccf9-4b0f-cdd7-b5e613a6b299",
        "colab": {
          "base_uri": "https://localhost:8080/",
          "height": 143
        }
      },
      "source": [
        "# if you've been doing other things, you might want to refresh the runtime before doing this\n",
        "# go to Runtime -> Restart runtime\n",
        "# then execute the prefix cell at the top to reset the prefix (data files will be kept on disk)\n",
        "\n",
        "print(\"installing dask...\")\n",
        "import os\n",
        "os.system('pip install \"dask[complete]\"')\n",
        "\n",
        "from dask.distributed import Client\n",
        "client = Client(processes=False, threads_per_worker=4, n_workers=1, memory_limit='4GB')\n",
        "client"
      ],
      "execution_count": 2,
      "outputs": [
        {
          "output_type": "stream",
          "text": [
            "installing dask...\n"
          ],
          "name": "stdout"
        },
        {
          "output_type": "execute_result",
          "data": {
            "text/html": [
              "<table style=\"border: 2px solid white;\">\n",
              "<tr>\n",
              "<td style=\"vertical-align: top; border: 0px solid white\">\n",
              "<h3>Client</h3>\n",
              "<ul>\n",
              "  <li><b>Scheduler: </b>inproc://172.28.0.2/4210/1\n",
              "  <li><b>Dashboard: </b><a href='http://localhost:8787/status' target='_blank'>http://localhost:8787/status</a>\n",
              "</ul>\n",
              "</td>\n",
              "<td style=\"vertical-align: top; border: 0px solid white\">\n",
              "<h3>Cluster</h3>\n",
              "<ul>\n",
              "  <li><b>Workers: </b>1</li>\n",
              "  <li><b>Cores: </b>4</li>\n",
              "  <li><b>Memory: </b>4.00 GB</li>\n",
              "</ul>\n",
              "</td>\n",
              "</tr>\n",
              "</table>"
            ],
            "text/plain": [
              "<Client: scheduler='inproc://172.28.0.2/4210/1' processes=1 cores=4>"
            ]
          },
          "metadata": {
            "tags": []
          },
          "execution_count": 2
        }
      ]
    },
    {
      "cell_type": "code",
      "metadata": {
        "id": "CRufAjNJMEcO",
        "colab_type": "code",
        "outputId": "52ced127-26e3-46a7-af34-7a91828f282b",
        "colab": {
          "base_uri": "https://localhost:8080/",
          "height": 204
        }
      },
      "source": [
        "import numpy as np\n",
        "import dask.dataframe as dd\n",
        "import time\n",
        "\n",
        "# load dask dataframe\n",
        "ddf = dd.read_hdf(prefix+'.d.h5', key='mdf', chunksize=1000)\n",
        "\n",
        "# cache as much as possible in memory to avoid unfair time penalty from disk io\n",
        "#ddf = client.persist(ddf)\n",
        "\n",
        "d0 = ddf.columns.values[ddf.columns.str.startswith('DATA0_')]\n",
        "d1 = ddf.columns.values[ddf.columns.str.startswith('DATA1_')]\n",
        "\n",
        "# start the race\n",
        "start = time.time()\n",
        "\n",
        "################################################################\n",
        "# these are dask arrays, not numpy arrays \n",
        "# they hold no value until .execute() is called later on (lazy execution)\n",
        "vis = (ddf[d0].values + ddf[d1].values)/2\n",
        "\n",
        "# lets do some math to take up time\n",
        "# apparently you can apply numpy functions to dask arrays, and still get dask arrays back\n",
        "CONT_RMS = np.sqrt(np.mean(np.power(np.abs(vis),2), axis=1)).compute()\n",
        "CONT_MAX = np.max(np.abs(vis), axis=1).compute()\n",
        "CONT_STD = np.std(np.abs(vis), axis=1).compute()\n",
        "\n",
        "################################################################\n",
        "print('dask elapsed time (s): ', time.time() - start)\n",
        "\n",
        "print(vis.compute()[99,:10])  # fair to call compute here outside of timing\n",
        "print(CONT_RMS)\n",
        "print(CONT_MAX)\n",
        "print(CONT_STD)"
      ],
      "execution_count": 4,
      "outputs": [
        {
          "output_type": "stream",
          "text": [
            "dask elapsed time (s):  48.35733914375305\n",
            "[13.54471254 -4.17907533j 11.38541317 -1.468117j\n",
            "  6.51205455 -0.63292367j  4.22940874 -8.97885489j\n",
            " 16.40296173 -3.08799507j  7.35137585 -1.7305609j\n",
            "  4.10938323 -3.54848051j 10.18194199 -1.71122259j\n",
            "  9.92670894 -4.06110525j  4.69709611-13.00634623j]\n",
            "[10.4100553  10.48297409 10.37487385 ... 10.95658076 10.37941196\n",
            "  8.49994653]\n",
            "[25.62491703 21.06853462 21.71281421 ... 29.41012952 27.53062948\n",
            " 27.83868841]\n",
            "[4.14186771 4.15681038 3.87555548 ... 5.05167894 4.6392086  4.07304023]\n"
          ],
          "name": "stdout"
        }
      ]
    },
    {
      "cell_type": "code",
      "metadata": {
        "id": "ciYUbSBVN0AE",
        "colab_type": "code",
        "colab": {}
      },
      "source": [
        "client.close()"
      ],
      "execution_count": 0,
      "outputs": []
    },
    {
      "cell_type": "markdown",
      "metadata": {
        "id": "txYoU79l_o-a",
        "colab_type": "text"
      },
      "source": [
        "# GPU Processing with Tensorflow\n",
        "https://www.tensorflow.org/api_docs/python/tf"
      ]
    },
    {
      "cell_type": "code",
      "metadata": {
        "id": "BwgEHrxYy16h",
        "colab_type": "code",
        "outputId": "e05f9489-e4d1-4e3f-fafc-211484ca9a71",
        "colab": {
          "base_uri": "https://localhost:8080/",
          "height": 153
        }
      },
      "source": [
        "import pandas as pd\n",
        "import tensorflow as tf\n",
        "import numpy as np\n",
        "import time\n",
        "\n",
        "# load pandas dataframe\n",
        "pdf = pd.read_hdf(prefix+'.h5', key='mdf')\n",
        "\n",
        "d0 = pdf.columns.values[pdf.columns.str.startswith('DATA0_')]\n",
        "d1 = pdf.columns.values[pdf.columns.str.startswith('DATA1_')]\n",
        "\n",
        "start = time.time()\n",
        "\n",
        "###########################################################################\n",
        "# create our tensor math sequence\n",
        "with tf.device('/gpu:0'):\n",
        "  c0 = pdf[d0].values  # first set of complex visibilities\n",
        "  c1 = pdf[d1].values  # second set of complex visibilities\n",
        "  \n",
        "  aa = tf.placeholder(tf.complex64, shape=c0.shape)\n",
        "  bb = tf.placeholder(tf.complex64, shape=c1.shape)\n",
        "  tvis = tf.scalar_mul(0.5, tf.add(aa, bb))\n",
        "  \n",
        "  # lets do some math to take up time\n",
        "  tCONT_RMS = tf.sqrt( tf.reduce_mean( tf.square( tf.abs(tvis) ), axis=1) )          \n",
        "  tCONT_MAX = tf.reduce_max( tf.abs(tvis), axis=1)\n",
        "  tCONT_STD = tf.math.reduce_std( tf.abs(tvis), axis=1)\n",
        "\n",
        "with tf.Session() as sess:    \n",
        "    vis = sess.run(tvis, feed_dict={aa: c0, bb: c1})\n",
        "    CONT_RMS = sess.run(tCONT_RMS, feed_dict={aa: c0, bb: c1})\n",
        "    CONT_MAX = sess.run(tCONT_MAX, feed_dict={aa: c0, bb: c1})\n",
        "    CONT_STD = sess.run(tCONT_STD, feed_dict={aa: c0, bb: c1})\n",
        "\n",
        "###########################################################################\n",
        "\n",
        "print('tensorflow elapsed time (s): ', time.time() - start)\n",
        "\n",
        "print(vis[99,:10])\n",
        "print(CONT_RMS)\n",
        "print(CONT_MAX)\n",
        "print(CONT_STD)\n"
      ],
      "execution_count": 6,
      "outputs": [
        {
          "output_type": "stream",
          "text": [
            "tensorflow elapsed time (s):  2.418553113937378\n",
            "[13.544712  -4.1790752j  11.385413  -1.468117j    6.5120544 -0.63292366j\n",
            "  4.2294087 -8.978855j   16.402962  -3.087995j    7.351376  -1.7305609j\n",
            "  4.109383  -3.5484805j  10.181942  -1.7112226j   9.926709  -4.0611053j\n",
            "  4.697096 -13.006346j  ]\n",
            "[10.410055 10.482974 10.374873 ... 10.956581 10.379413  8.499947]\n",
            "[25.624916 21.068535 21.712816 ... 29.41013  27.530628 27.838688]\n",
            "[4.1418676 4.1568103 3.8755555 ... 5.051679  4.639209  4.07304  ]\n"
          ],
          "name": "stdout"
        }
      ]
    },
    {
      "cell_type": "markdown",
      "metadata": {
        "id": "CRf2aZUM4GBy",
        "colab_type": "text"
      },
      "source": [
        "# Brief Intro to Dataframes\n",
        "Our MS is now represented as a Dataframe in Python.  Most of these examples will leverage that structure as the Dataframe concept is used by Pandas, Spark, and Dask.  Here is a brief tutorial for those unfamiliar with the original Pandas Dataframe concept.\n",
        "\n",
        "Pandas is a popular data analytics package for Python built over numpy and matplotlib.  Subsequent frameworks such as Spark have extended the Pandas concept to parallel/scalable processing.\n",
        "\n",
        "https://pandas.pydata.org/\n",
        "\n",
        "\n",
        "BTW, variable names that end in 'df' are dataframes"
      ]
    },
    {
      "cell_type": "code",
      "metadata": {
        "id": "J4xGGob94FVv",
        "colab_type": "code",
        "colab": {
          "base_uri": "https://localhost:8080/",
          "height": 848
        },
        "outputId": "36aeb5dc-e428-428c-9d47-432142f19b79"
      },
      "source": [
        "import pandas as pd\n",
        "import numpy as np\n",
        "\n",
        "# load pandas dataframe\n",
        "pdf = pd.read_hdf(prefix+'.h5', key='mdf')\n",
        "\n",
        "# what do we have here?\n",
        "pdf.head()"
      ],
      "execution_count": 8,
      "outputs": [
        {
          "output_type": "execute_result",
          "data": {
            "text/html": [
              "<div>\n",
              "<style scoped>\n",
              "    .dataframe tbody tr th:only-of-type {\n",
              "        vertical-align: middle;\n",
              "    }\n",
              "\n",
              "    .dataframe tbody tr th {\n",
              "        vertical-align: top;\n",
              "    }\n",
              "\n",
              "    .dataframe thead th {\n",
              "        text-align: right;\n",
              "    }\n",
              "</style>\n",
              "<table border=\"1\" class=\"dataframe\">\n",
              "  <thead>\n",
              "    <tr style=\"text-align: right;\">\n",
              "      <th></th>\n",
              "      <th>FLAG0</th>\n",
              "      <th>FLAG1</th>\n",
              "      <th>FLAG_CATEGORY</th>\n",
              "      <th>WEIGHT0</th>\n",
              "      <th>WEIGHT1</th>\n",
              "      <th>SIGMA0</th>\n",
              "      <th>SIGMA1</th>\n",
              "      <th>ANTENNA1</th>\n",
              "      <th>ANTENNA2</th>\n",
              "      <th>ARRAY_ID</th>\n",
              "      <th>DATA_DESC_ID</th>\n",
              "      <th>EXPOSURE</th>\n",
              "      <th>FEED1</th>\n",
              "      <th>FEED2</th>\n",
              "      <th>FIELD_ID</th>\n",
              "      <th>FLAG_ROW</th>\n",
              "      <th>INTERVAL</th>\n",
              "      <th>OBSERVATION_ID</th>\n",
              "      <th>PROCESSOR_ID</th>\n",
              "      <th>SCAN_NUMBER</th>\n",
              "      <th>STATE_ID</th>\n",
              "      <th>TIME</th>\n",
              "      <th>TIME_CENTROID</th>\n",
              "      <th>WEIGHT_SPECTRUM</th>\n",
              "      <th>UU</th>\n",
              "      <th>VV</th>\n",
              "      <th>WW</th>\n",
              "      <th>DATA0_0</th>\n",
              "      <th>DATA0_1</th>\n",
              "      <th>DATA0_2</th>\n",
              "      <th>DATA0_3</th>\n",
              "      <th>DATA0_4</th>\n",
              "      <th>DATA0_5</th>\n",
              "      <th>DATA0_6</th>\n",
              "      <th>DATA0_7</th>\n",
              "      <th>DATA0_8</th>\n",
              "      <th>DATA0_9</th>\n",
              "      <th>DATA0_10</th>\n",
              "      <th>DATA0_11</th>\n",
              "      <th>DATA0_12</th>\n",
              "      <th>...</th>\n",
              "      <th>DATA1_344</th>\n",
              "      <th>DATA1_345</th>\n",
              "      <th>DATA1_346</th>\n",
              "      <th>DATA1_347</th>\n",
              "      <th>DATA1_348</th>\n",
              "      <th>DATA1_349</th>\n",
              "      <th>DATA1_350</th>\n",
              "      <th>DATA1_351</th>\n",
              "      <th>DATA1_352</th>\n",
              "      <th>DATA1_353</th>\n",
              "      <th>DATA1_354</th>\n",
              "      <th>DATA1_355</th>\n",
              "      <th>DATA1_356</th>\n",
              "      <th>DATA1_357</th>\n",
              "      <th>DATA1_358</th>\n",
              "      <th>DATA1_359</th>\n",
              "      <th>DATA1_360</th>\n",
              "      <th>DATA1_361</th>\n",
              "      <th>DATA1_362</th>\n",
              "      <th>DATA1_363</th>\n",
              "      <th>DATA1_364</th>\n",
              "      <th>DATA1_365</th>\n",
              "      <th>DATA1_366</th>\n",
              "      <th>DATA1_367</th>\n",
              "      <th>DATA1_368</th>\n",
              "      <th>DATA1_369</th>\n",
              "      <th>DATA1_370</th>\n",
              "      <th>DATA1_371</th>\n",
              "      <th>DATA1_372</th>\n",
              "      <th>DATA1_373</th>\n",
              "      <th>DATA1_374</th>\n",
              "      <th>DATA1_375</th>\n",
              "      <th>DATA1_376</th>\n",
              "      <th>DATA1_377</th>\n",
              "      <th>DATA1_378</th>\n",
              "      <th>DATA1_379</th>\n",
              "      <th>DATA1_380</th>\n",
              "      <th>DATA1_381</th>\n",
              "      <th>DATA1_382</th>\n",
              "      <th>DATA1_383</th>\n",
              "    </tr>\n",
              "  </thead>\n",
              "  <tbody>\n",
              "    <tr>\n",
              "      <th>0</th>\n",
              "      <td>[False False False False False False False Fal...</td>\n",
              "      <td>[False False False False False False False Fal...</td>\n",
              "      <td>False</td>\n",
              "      <td>20.415682</td>\n",
              "      <td>26.796448</td>\n",
              "      <td>0.221319</td>\n",
              "      <td>0.193180</td>\n",
              "      <td>1</td>\n",
              "      <td>2</td>\n",
              "      <td>0</td>\n",
              "      <td>0</td>\n",
              "      <td>6.048</td>\n",
              "      <td>0</td>\n",
              "      <td>0</td>\n",
              "      <td>0</td>\n",
              "      <td>False</td>\n",
              "      <td>6.048</td>\n",
              "      <td>0</td>\n",
              "      <td>2</td>\n",
              "      <td>4</td>\n",
              "      <td>0</td>\n",
              "      <td>4.860027e+09</td>\n",
              "      <td>4.860027e+09</td>\n",
              "      <td>False</td>\n",
              "      <td>95.583330</td>\n",
              "      <td>-138.672313</td>\n",
              "      <td>-13.694759</td>\n",
              "      <td>(2.3318817615509033-3.5661864280700684j)</td>\n",
              "      <td>(8.517426490783691+5.2483296394348145j)</td>\n",
              "      <td>(16.66013526916504+6.8231987953186035j)</td>\n",
              "      <td>(7.182509422302246+0.08891031891107559j)</td>\n",
              "      <td>(10.832413673400879+4.374227046966553j)</td>\n",
              "      <td>(0.6358211636543274-0.7716213464736938j)</td>\n",
              "      <td>(2.1642746925354004+4.399510860443115j)</td>\n",
              "      <td>(8.17321491241455+2.7197201251983643j)</td>\n",
              "      <td>(13.39111614227295-6.9550018310546875j)</td>\n",
              "      <td>(3.2065072059631348-4.231297969818115j)</td>\n",
              "      <td>(15.346712112426758-4.567995548248291j)</td>\n",
              "      <td>(19.855609893798828-5.028872966766357j)</td>\n",
              "      <td>(5.813932418823242-6.026472091674805j)</td>\n",
              "      <td>...</td>\n",
              "      <td>(17.27989959716797+3.3604886531829834j)</td>\n",
              "      <td>(8.177420616149902+1.6735318899154663j)</td>\n",
              "      <td>(-0.02199137955904007+5.626868724822998j)</td>\n",
              "      <td>(20.410009384155273+2.8687903881073j)</td>\n",
              "      <td>(3.341310977935791-1.4374526739120483j)</td>\n",
              "      <td>(12.33537769317627-4.610698699951172j)</td>\n",
              "      <td>(7.492038249969482+6.322351932525635j)</td>\n",
              "      <td>(1.3734248876571655-3.6436853408813477j)</td>\n",
              "      <td>(1.4769983291625977-0.6867740154266357j)</td>\n",
              "      <td>(6.017889022827148+7.395653247833252j)</td>\n",
              "      <td>(9.560358047485352-1.985134243965149j)</td>\n",
              "      <td>(15.66563606262207-6.449517726898193j)</td>\n",
              "      <td>(-4.336203575134277-2.210480213165283j)</td>\n",
              "      <td>(-4.779181957244873-6.1192169189453125j)</td>\n",
              "      <td>(2.266981363296509+4.905197620391846j)</td>\n",
              "      <td>(12.975719451904297-0.42215049266815186j)</td>\n",
              "      <td>(4.979161262512207+4.769021987915039j)</td>\n",
              "      <td>(4.713338375091553+7.099242210388184j)</td>\n",
              "      <td>(4.052988052368164-3.435676336288452j)</td>\n",
              "      <td>(3.669857978820801-2.0122134685516357j)</td>\n",
              "      <td>(12.932084083557129+0.7047814130783081j)</td>\n",
              "      <td>(5.075198650360107-6.040958404541016j)</td>\n",
              "      <td>(10.913556098937988+1.3338634967803955j)</td>\n",
              "      <td>(9.331941604614258-2.9620518684387207j)</td>\n",
              "      <td>(1.9388401508331299-0.5656161904335022j)</td>\n",
              "      <td>(14.282381057739258-3.0161337852478027j)</td>\n",
              "      <td>(14.715849876403809-3.7254133224487305j)</td>\n",
              "      <td>(17.191993713378906-2.0113627910614014j)</td>\n",
              "      <td>(2.9381611347198486+3.5896992683410645j)</td>\n",
              "      <td>(17.237485885620117-4.860803127288818j)</td>\n",
              "      <td>(15.538578987121582+6.01350212097168j)</td>\n",
              "      <td>(8.076106071472168-5.437648296356201j)</td>\n",
              "      <td>(5.798494338989258+7.236459255218506j)</td>\n",
              "      <td>(7.976403713226318+1.227457046508789j)</td>\n",
              "      <td>(8.4287109375+5.924354076385498j)</td>\n",
              "      <td>(4.802339553833008-8.367317199707031j)</td>\n",
              "      <td>(12.765170097351074+2.8492603302001953j)</td>\n",
              "      <td>(12.333675384521484-0.745797872543335j)</td>\n",
              "      <td>(21.547746658325195+4.049798965454102j)</td>\n",
              "      <td>(13.551788330078125-0.7658910751342773j)</td>\n",
              "    </tr>\n",
              "    <tr>\n",
              "      <th>1</th>\n",
              "      <td>[False False False False False False False Fal...</td>\n",
              "      <td>[False False False False False False False Fal...</td>\n",
              "      <td>False</td>\n",
              "      <td>19.593037</td>\n",
              "      <td>33.047886</td>\n",
              "      <td>0.225917</td>\n",
              "      <td>0.173951</td>\n",
              "      <td>1</td>\n",
              "      <td>3</td>\n",
              "      <td>0</td>\n",
              "      <td>0</td>\n",
              "      <td>6.048</td>\n",
              "      <td>0</td>\n",
              "      <td>0</td>\n",
              "      <td>0</td>\n",
              "      <td>False</td>\n",
              "      <td>6.048</td>\n",
              "      <td>0</td>\n",
              "      <td>2</td>\n",
              "      <td>4</td>\n",
              "      <td>0</td>\n",
              "      <td>4.860027e+09</td>\n",
              "      <td>4.860027e+09</td>\n",
              "      <td>False</td>\n",
              "      <td>-111.767122</td>\n",
              "      <td>28.948793</td>\n",
              "      <td>42.888321</td>\n",
              "      <td>(20.93869400024414+0.7156710028648376j)</td>\n",
              "      <td>(6.29837703704834-9.540606498718262j)</td>\n",
              "      <td>(11.93618392944336+5.157202243804932j)</td>\n",
              "      <td>(7.319814205169678+4.718991756439209j)</td>\n",
              "      <td>(14.039151191711426-5.33660364151001j)</td>\n",
              "      <td>(1.3295425176620483-3.44425630569458j)</td>\n",
              "      <td>(15.372822761535645-10.89024543762207j)</td>\n",
              "      <td>(8.993243217468262+5.282325744628906j)</td>\n",
              "      <td>(2.019103527069092-4.335098743438721j)</td>\n",
              "      <td>(8.965170860290527+18.955461502075195j)</td>\n",
              "      <td>(3.09230637550354+4.113480567932129j)</td>\n",
              "      <td>(5.451208591461182-1.2571710348129272j)</td>\n",
              "      <td>(1.309105634689331+3.7018072605133057j)</td>\n",
              "      <td>...</td>\n",
              "      <td>(22.81267738342285-7.453534126281738j)</td>\n",
              "      <td>(1.7387911081314087-14.087273597717285j)</td>\n",
              "      <td>(5.526534080505371-12.111541748046875j)</td>\n",
              "      <td>(1.4240233898162842-3.799933433532715j)</td>\n",
              "      <td>(2.656480312347412-4.9496870040893555j)</td>\n",
              "      <td>(4.320353984832764-2.9949285984039307j)</td>\n",
              "      <td>(7.746617794036865+6.926879405975342j)</td>\n",
              "      <td>(23.25543785095215-0.6567508578300476j)</td>\n",
              "      <td>(11.89592456817627-7.950047969818115j)</td>\n",
              "      <td>(13.429869651794434-4.593450546264648j)</td>\n",
              "      <td>(-11.23774528503418-2.0002641677856445j)</td>\n",
              "      <td>(3.3480660915374756-4.51606559753418j)</td>\n",
              "      <td>(-1.3135607242584229-2.029782295227051j)</td>\n",
              "      <td>(13.603860855102539+0.7899042367935181j)</td>\n",
              "      <td>(3.054694652557373+1.2597987651824951j)</td>\n",
              "      <td>(8.134922981262207+2.5009570121765137j)</td>\n",
              "      <td>(10.858160972595215+5.4000043869018555j)</td>\n",
              "      <td>(8.739312171936035+4.0463995933532715j)</td>\n",
              "      <td>(14.786410331726074+1.8795990943908691j)</td>\n",
              "      <td>(6.185480117797852-9.53746223449707j)</td>\n",
              "      <td>(10.917214393615723-1.8033705949783325j)</td>\n",
              "      <td>(1.54318106174469+0.8544971942901611j)</td>\n",
              "      <td>(10.239703178405762-4.527919292449951j)</td>\n",
              "      <td>(5.663922309875488+3.062824010848999j)</td>\n",
              "      <td>(0.5047653317451477-3.013237476348877j)</td>\n",
              "      <td>(14.394591331481934-9.268844604492188j)</td>\n",
              "      <td>(-6.386695384979248-4.346302032470703j)</td>\n",
              "      <td>(21.45361328125+0.08036096394062042j)</td>\n",
              "      <td>(11.09669017791748-1.8783503770828247j)</td>\n",
              "      <td>(13.626971244812012-6.2742414474487305j)</td>\n",
              "      <td>(9.379308700561523-7.904547214508057j)</td>\n",
              "      <td>(14.101181983947754-6.2375030517578125j)</td>\n",
              "      <td>(2.1577794551849365-4.71014928817749j)</td>\n",
              "      <td>(0.48317021131515503-0.5440409779548645j)</td>\n",
              "      <td>(13.517230987548828-13.134032249450684j)</td>\n",
              "      <td>(11.653305053710938+2.7421419620513916j)</td>\n",
              "      <td>(11.370560646057129-2.007960319519043j)</td>\n",
              "      <td>(12.169238090515137-12.063722610473633j)</td>\n",
              "      <td>(14.819766998291016-5.375499725341797j)</td>\n",
              "      <td>(9.461934089660645+0.7355325818061829j)</td>\n",
              "    </tr>\n",
              "    <tr>\n",
              "      <th>2</th>\n",
              "      <td>[False False False False False False False Fal...</td>\n",
              "      <td>[False False False False False False False Fal...</td>\n",
              "      <td>False</td>\n",
              "      <td>22.515686</td>\n",
              "      <td>32.499786</td>\n",
              "      <td>0.210745</td>\n",
              "      <td>0.175412</td>\n",
              "      <td>1</td>\n",
              "      <td>4</td>\n",
              "      <td>0</td>\n",
              "      <td>0</td>\n",
              "      <td>6.048</td>\n",
              "      <td>0</td>\n",
              "      <td>0</td>\n",
              "      <td>0</td>\n",
              "      <td>False</td>\n",
              "      <td>6.048</td>\n",
              "      <td>0</td>\n",
              "      <td>2</td>\n",
              "      <td>4</td>\n",
              "      <td>0</td>\n",
              "      <td>4.860027e+09</td>\n",
              "      <td>4.860027e+09</td>\n",
              "      <td>False</td>\n",
              "      <td>-100.502448</td>\n",
              "      <td>-38.534069</td>\n",
              "      <td>51.759413</td>\n",
              "      <td>(10.994588851928711+0.9523720145225525j)</td>\n",
              "      <td>(7.550807476043701+5.66284704208374j)</td>\n",
              "      <td>(15.579660415649414+11.569958686828613j)</td>\n",
              "      <td>(1.552693247795105-9.33838939666748j)</td>\n",
              "      <td>(19.80039405822754-2.571021318435669j)</td>\n",
              "      <td>(10.754281044006348-9.762346267700195j)</td>\n",
              "      <td>(11.47216510772705-3.743600606918335j)</td>\n",
              "      <td>(11.405746459960938+5.965798377990723j)</td>\n",
              "      <td>(1.765000820159912+0.12720610201358795j)</td>\n",
              "      <td>(-6.718812465667725-3.7973263263702393j)</td>\n",
              "      <td>(0.35538992285728455-2.6307125091552734j)</td>\n",
              "      <td>(2.0172975063323975-1.1858521699905396j)</td>\n",
              "      <td>(7.152403354644775+5.296687602996826j)</td>\n",
              "      <td>...</td>\n",
              "      <td>(6.023355007171631-2.560340166091919j)</td>\n",
              "      <td>(3.0813851356506348-11.3259916305542j)</td>\n",
              "      <td>(1.595892310142517-4.693748950958252j)</td>\n",
              "      <td>(3.4480085372924805-4.270573616027832j)</td>\n",
              "      <td>(8.88172435760498-6.40173864364624j)</td>\n",
              "      <td>(3.447073221206665-1.7098809480667114j)</td>\n",
              "      <td>(16.150497436523438-2.573643922805786j)</td>\n",
              "      <td>(5.258133411407471+3.324997901916504j)</td>\n",
              "      <td>(4.864338397979736-3.082043170928955j)</td>\n",
              "      <td>(-9.77629566192627+7.222130298614502j)</td>\n",
              "      <td>(7.188591003417969+3.411205768585205j)</td>\n",
              "      <td>(4.721062660217285+4.683899402618408j)</td>\n",
              "      <td>(10.774746894836426+1.429323673248291j)</td>\n",
              "      <td>(2.5633535385131836+0.4994524121284485j)</td>\n",
              "      <td>(16.045879364013672+1.2751153707504272j)</td>\n",
              "      <td>(7.629786491394043-0.9591171145439148j)</td>\n",
              "      <td>(-3.0491247177124023+10.132794380187988j)</td>\n",
              "      <td>(14.758584976196289-2.5469486713409424j)</td>\n",
              "      <td>(3.3908801078796387+2.9502978324890137j)</td>\n",
              "      <td>(6.186502933502197+3.2833423614501953j)</td>\n",
              "      <td>(8.984800338745117-3.0288469791412354j)</td>\n",
              "      <td>(9.929187774658203+5.055798530578613j)</td>\n",
              "      <td>(5.742140293121338+8.510278701782227j)</td>\n",
              "      <td>(18.92925453186035-2.605685234069824j)</td>\n",
              "      <td>(3.7431206703186035-3.99263072013855j)</td>\n",
              "      <td>(19.761924743652344+1.4337130784988403j)</td>\n",
              "      <td>(18.459463119506836-1.8179336786270142j)</td>\n",
              "      <td>(11.037930488586426+3.2857236862182617j)</td>\n",
              "      <td>(8.848122596740723-6.257901668548584j)</td>\n",
              "      <td>(1.4583961963653564+4.889096260070801j)</td>\n",
              "      <td>(9.469608306884766+6.9971699714660645j)</td>\n",
              "      <td>(12.20848274230957+2.862663507461548j)</td>\n",
              "      <td>(14.529244422912598+1.7814123630523682j)</td>\n",
              "      <td>(14.866351127624512-0.4979478716850281j)</td>\n",
              "      <td>(0.6392075419425964+10.122931480407715j)</td>\n",
              "      <td>(-2.2668299674987793-8.036706924438477j)</td>\n",
              "      <td>(4.341507911682129+7.543518543243408j)</td>\n",
              "      <td>(10.86840534210205+4.902133464813232j)</td>\n",
              "      <td>(6.5432329177856445+0.33903032541275024j)</td>\n",
              "      <td>(-0.841143012046814-6.047552585601807j)</td>\n",
              "    </tr>\n",
              "    <tr>\n",
              "      <th>3</th>\n",
              "      <td>[False False False False False False False Fal...</td>\n",
              "      <td>[False False False False False False False Fal...</td>\n",
              "      <td>False</td>\n",
              "      <td>24.278385</td>\n",
              "      <td>34.531357</td>\n",
              "      <td>0.202950</td>\n",
              "      <td>0.170174</td>\n",
              "      <td>1</td>\n",
              "      <td>5</td>\n",
              "      <td>0</td>\n",
              "      <td>0</td>\n",
              "      <td>6.048</td>\n",
              "      <td>0</td>\n",
              "      <td>0</td>\n",
              "      <td>0</td>\n",
              "      <td>False</td>\n",
              "      <td>6.048</td>\n",
              "      <td>0</td>\n",
              "      <td>2</td>\n",
              "      <td>4</td>\n",
              "      <td>0</td>\n",
              "      <td>4.860027e+09</td>\n",
              "      <td>4.860027e+09</td>\n",
              "      <td>False</td>\n",
              "      <td>19.341554</td>\n",
              "      <td>-7.336952</td>\n",
              "      <td>-6.608505</td>\n",
              "      <td>(-6.274674892425537+9.98753833770752j)</td>\n",
              "      <td>(5.9915771484375+8.296588897705078j)</td>\n",
              "      <td>(15.569023132324219-1.1245378255844116j)</td>\n",
              "      <td>(8.270029067993164-0.657656192779541j)</td>\n",
              "      <td>(3.806452989578247+6.470746994018555j)</td>\n",
              "      <td>(0.35786065459251404+4.017508506774902j)</td>\n",
              "      <td>(4.519052982330322+5.525003910064697j)</td>\n",
              "      <td>(13.236381530761719+0.6285176277160645j)</td>\n",
              "      <td>(16.810556411743164+5.106149673461914j)</td>\n",
              "      <td>(19.15921401977539+0.128421813249588j)</td>\n",
              "      <td>(12.291219711303711-0.03213786333799362j)</td>\n",
              "      <td>(15.632779121398926-7.8355255126953125j)</td>\n",
              "      <td>(3.8215270042419434-0.765230119228363j)</td>\n",
              "      <td>...</td>\n",
              "      <td>(13.077658653259277-1.1552561521530151j)</td>\n",
              "      <td>(6.32584285736084-2.4423916339874268j)</td>\n",
              "      <td>(14.56767749786377-3.804482936859131j)</td>\n",
              "      <td>(13.543601036071777+2.585538625717163j)</td>\n",
              "      <td>(4.2100019454956055-3.8033156394958496j)</td>\n",
              "      <td>(10.252952575683594+5.22845458984375j)</td>\n",
              "      <td>(15.774234771728516+13.468154907226562j)</td>\n",
              "      <td>(13.457690238952637-1.657936692237854j)</td>\n",
              "      <td>(7.342782974243164+7.980602741241455j)</td>\n",
              "      <td>(8.143145561218262-0.08561653643846512j)</td>\n",
              "      <td>(8.085284233093262-0.7488059401512146j)</td>\n",
              "      <td>(3.811183452606201+3.5575387477874756j)</td>\n",
              "      <td>(6.2032575607299805+3.1377267837524414j)</td>\n",
              "      <td>(11.976541519165039-7.977686882019043j)</td>\n",
              "      <td>(10.476933479309082-10.527360916137695j)</td>\n",
              "      <td>(3.7163758277893066-4.333712100982666j)</td>\n",
              "      <td>(11.736413955688477+4.4768595695495605j)</td>\n",
              "      <td>(10.907817840576172-3.1502718925476074j)</td>\n",
              "      <td>(7.76457405090332+3.3762636184692383j)</td>\n",
              "      <td>(22.184022903442383+2.2715072631835938j)</td>\n",
              "      <td>(10.908327102661133+4.2665839195251465j)</td>\n",
              "      <td>(6.807223796844482-6.089178562164307j)</td>\n",
              "      <td>(2.4330291748046875-4.065864086151123j)</td>\n",
              "      <td>(8.525996208190918+0.8038614988327026j)</td>\n",
              "      <td>(21.467937469482422-8.452540397644043j)</td>\n",
              "      <td>(11.145007133483887-4.019111156463623j)</td>\n",
              "      <td>(6.172853946685791+2.28049635887146j)</td>\n",
              "      <td>(7.620800971984863-1.4807523488998413j)</td>\n",
              "      <td>(2.7541000843048096-6.671705722808838j)</td>\n",
              "      <td>(10.501853942871094-5.925360679626465j)</td>\n",
              "      <td>(9.437451362609863-0.1540130078792572j)</td>\n",
              "      <td>(6.746359348297119-4.324672698974609j)</td>\n",
              "      <td>(4.083174705505371+1.0840387344360352j)</td>\n",
              "      <td>(11.368677139282227-1.8054447174072266j)</td>\n",
              "      <td>(5.424355983734131-0.2049216330051422j)</td>\n",
              "      <td>(11.863577842712402-5.758120059967041j)</td>\n",
              "      <td>(11.91942024230957-4.878470420837402j)</td>\n",
              "      <td>(7.918353080749512+3.9213314056396484j)</td>\n",
              "      <td>(9.197219848632812-7.587007522583008j)</td>\n",
              "      <td>(10.67857837677002+5.24788761138916j)</td>\n",
              "    </tr>\n",
              "    <tr>\n",
              "      <th>4</th>\n",
              "      <td>[False False False False False False False Fal...</td>\n",
              "      <td>[False False False False False False False Fal...</td>\n",
              "      <td>False</td>\n",
              "      <td>23.798300</td>\n",
              "      <td>32.714806</td>\n",
              "      <td>0.204987</td>\n",
              "      <td>0.174835</td>\n",
              "      <td>1</td>\n",
              "      <td>6</td>\n",
              "      <td>0</td>\n",
              "      <td>0</td>\n",
              "      <td>6.048</td>\n",
              "      <td>0</td>\n",
              "      <td>0</td>\n",
              "      <td>0</td>\n",
              "      <td>False</td>\n",
              "      <td>6.048</td>\n",
              "      <td>0</td>\n",
              "      <td>2</td>\n",
              "      <td>4</td>\n",
              "      <td>0</td>\n",
              "      <td>4.860027e+09</td>\n",
              "      <td>4.860027e+09</td>\n",
              "      <td>False</td>\n",
              "      <td>33.538773</td>\n",
              "      <td>-117.010647</td>\n",
              "      <td>9.465506</td>\n",
              "      <td>(25.148218154907227+11.035774230957031j)</td>\n",
              "      <td>(-4.389978408813477+7.136896133422852j)</td>\n",
              "      <td>(10.710504531860352+6.668013095855713j)</td>\n",
              "      <td>(6.883823394775391-0.3352225720882416j)</td>\n",
              "      <td>(22.881389617919922+3.0677590370178223j)</td>\n",
              "      <td>(0.03639153763651848+3.0776009559631348j)</td>\n",
              "      <td>(14.276315689086914-3.701946496963501j)</td>\n",
              "      <td>(-4.776886463165283-8.977944374084473j)</td>\n",
              "      <td>(6.895258903503418+1.909058928489685j)</td>\n",
              "      <td>(8.584906578063965+1.5386545658111572j)</td>\n",
              "      <td>(4.62355899810791-4.497751712799072j)</td>\n",
              "      <td>(20.274734497070312+13.83987045288086j)</td>\n",
              "      <td>(15.418318748474121+10.651091575622559j)</td>\n",
              "      <td>...</td>\n",
              "      <td>(13.93303394317627+5.6118998527526855j)</td>\n",
              "      <td>(14.167295455932617-2.8236000537872314j)</td>\n",
              "      <td>(6.096409797668457-4.262423515319824j)</td>\n",
              "      <td>(6.9425368309021+4.693348407745361j)</td>\n",
              "      <td>(-3.875577688217163+1.7291266918182373j)</td>\n",
              "      <td>(11.583673477172852+4.990916728973389j)</td>\n",
              "      <td>(12.149947166442871+2.292314291000366j)</td>\n",
              "      <td>(13.751697540283203+0.9807695746421814j)</td>\n",
              "      <td>(12.282261848449707-2.7824108600616455j)</td>\n",
              "      <td>(9.451473236083984-0.8398950099945068j)</td>\n",
              "      <td>(9.15587329864502+4.325600624084473j)</td>\n",
              "      <td>(13.091927528381348-0.49723923206329346j)</td>\n",
              "      <td>(10.004485130310059-2.6252200603485107j)</td>\n",
              "      <td>(5.9989423751831055-7.6294050216674805j)</td>\n",
              "      <td>(11.67216968536377-4.804586887359619j)</td>\n",
              "      <td>(4.488975524902344+8.632670402526855j)</td>\n",
              "      <td>(12.336153984069824+1.6721340417861938j)</td>\n",
              "      <td>(-2.019071578979492-5.795334339141846j)</td>\n",
              "      <td>(16.40582847595215+3.1097397804260254j)</td>\n",
              "      <td>(12.861474990844727+1.1744359731674194j)</td>\n",
              "      <td>(9.15209674835205-4.4131669998168945j)</td>\n",
              "      <td>(7.837028980255127+4.01300573348999j)</td>\n",
              "      <td>(0.3265177011489868-0.5482015609741211j)</td>\n",
              "      <td>(10.976397514343262+9.522541999816895j)</td>\n",
              "      <td>(7.589663982391357+1.6145936250686646j)</td>\n",
              "      <td>(13.971495628356934+3.4369804859161377j)</td>\n",
              "      <td>(6.407994747161865-6.4454522132873535j)</td>\n",
              "      <td>(12.33599853515625-4.178487300872803j)</td>\n",
              "      <td>(5.957733631134033-1.5506701469421387j)</td>\n",
              "      <td>(5.976856708526611+1.2743315696716309j)</td>\n",
              "      <td>(28.21100616455078+4.033501625061035j)</td>\n",
              "      <td>(4.7616095542907715+4.071063995361328j)</td>\n",
              "      <td>(-0.6936478018760681+1.752928614616394j)</td>\n",
              "      <td>(10.055797576904297-5.461337566375732j)</td>\n",
              "      <td>(3.773920774459839-12.399993896484375j)</td>\n",
              "      <td>(4.467782020568848+3.3151257038116455j)</td>\n",
              "      <td>(15.721141815185547+7.360802173614502j)</td>\n",
              "      <td>(5.791853904724121-1.6472960710525513j)</td>\n",
              "      <td>(8.683135032653809+0.6607505083084106j)</td>\n",
              "      <td>(8.259503364562988-8.125251770019531j)</td>\n",
              "    </tr>\n",
              "  </tbody>\n",
              "</table>\n",
              "<p>5 rows × 795 columns</p>\n",
              "</div>"
            ],
            "text/plain": [
              "                                               FLAG0  ...                                 DATA1_383\n",
              "0  [False False False False False False False Fal...  ...  (13.551788330078125-0.7658910751342773j)\n",
              "1  [False False False False False False False Fal...  ...   (9.461934089660645+0.7355325818061829j)\n",
              "2  [False False False False False False False Fal...  ...   (-0.841143012046814-6.047552585601807j)\n",
              "3  [False False False False False False False Fal...  ...     (10.67857837677002+5.24788761138916j)\n",
              "4  [False False False False False False False Fal...  ...    (8.259503364562988-8.125251770019531j)\n",
              "\n",
              "[5 rows x 795 columns]"
            ]
          },
          "metadata": {
            "tags": []
          },
          "execution_count": 8
        }
      ]
    },
    {
      "cell_type": "code",
      "metadata": {
        "id": "o_3ykiUF55O9",
        "colab_type": "code",
        "colab": {
          "base_uri": "https://localhost:8080/",
          "height": 119
        },
        "outputId": "d39aa104-2719-4a6e-91de-650b75d7c497"
      },
      "source": [
        "# the dataframe holds named columns of scalar values or numpy arrays\n",
        "print(pdf.info())"
      ],
      "execution_count": 11,
      "outputs": [
        {
          "output_type": "stream",
          "text": [
            "<class 'pandas.core.frame.DataFrame'>\n",
            "Int64Index: 80563 entries, 0 to 80562\n",
            "Columns: 795 entries, FLAG0 to DATA1_383\n",
            "dtypes: bool(3), complex128(768), float64(11), int64(11), object(2)\n",
            "memory usage: 959.7+ MB\n",
            "None\n"
          ],
          "name": "stdout"
        }
      ]
    },
    {
      "cell_type": "code",
      "metadata": {
        "id": "_kJ6OBfgPOgQ",
        "colab_type": "code",
        "colab": {
          "base_uri": "https://localhost:8080/",
          "height": 409
        },
        "outputId": "64627bba-9226-4a32-ca2b-41a3ebe4d494"
      },
      "source": [
        "# you can easily visualize things\n",
        "pdf.plot(x='TIME', y='SCAN_NUMBER', figsize=(10,6))"
      ],
      "execution_count": 12,
      "outputs": [
        {
          "output_type": "execute_result",
          "data": {
            "text/plain": [
              "<matplotlib.axes._subplots.AxesSubplot at 0x7ffad7a457f0>"
            ]
          },
          "metadata": {
            "tags": []
          },
          "execution_count": 12
        },
        {
          "output_type": "display_data",
          "data": {
            "image/png": "[encoded data removed]",
            "text/plain": [
              "<Figure size 720x432 with 1 Axes>"
            ]
          },
          "metadata": {
            "tags": []
          }
        }
      ]
    },
    {
      "cell_type": "code",
      "metadata": {
        "id": "puIzKm4SBa_h",
        "colab_type": "code",
        "colab": {
          "base_uri": "https://localhost:8080/",
          "height": 136
        },
        "outputId": "c24acaed-8a29-4388-d3c0-2e58dfce5e72"
      },
      "source": [
        "# one column of a DataFrame is a Series\n",
        "# you can do math on a Series as you would a numpy array\n",
        "# the result is a new Series\n",
        "vis = (pdf.DATA0_0 + pdf.DATA1_0)/2\n",
        "print(type(vis))\n",
        "vis.head()"
      ],
      "execution_count": 13,
      "outputs": [
        {
          "output_type": "stream",
          "text": [
            "<class 'pandas.core.series.Series'>\n"
          ],
          "name": "stdout"
        },
        {
          "output_type": "execute_result",
          "data": {
            "text/plain": [
              "0      (8.575416684150696-1.6929169222712517j)\n",
              "1      (17.93399953842163-2.9816539585590363j)\n",
              "2      (11.509327411651611+2.421016186475754j)\n",
              "3    (-0.1800689697265625+6.2383646965026855j)\n",
              "4      (18.771233081817627+5.290798768401146j)\n",
              "dtype: complex128"
            ]
          },
          "metadata": {
            "tags": []
          },
          "execution_count": 13
        }
      ]
    },
    {
      "cell_type": "code",
      "metadata": {
        "id": "N1CudBD-tZKS",
        "colab_type": "code",
        "colab": {
          "base_uri": "https://localhost:8080/",
          "height": 51
        },
        "outputId": "46080ea7-1e78-4ff5-849b-848b55dbe756"
      },
      "source": [
        "# we can do operations on a slice of multiple columns\n",
        "# here we will operate on all the visibility channels (each in their own column)\n",
        "d0 = pdf.columns.values[pdf.columns.str.startswith('DATA0_')]\n",
        "d1 = pdf.columns.values[pdf.columns.str.startswith('DATA1_')]\n",
        "\n",
        "# we can find the mean across time for each channels\n",
        "print(pdf[d0].mean(axis=0).shape)\n",
        "\n",
        "# and the mean across channels for each time\n",
        "print(pdf[d0].mean(axis=1).shape)"
      ],
      "execution_count": 20,
      "outputs": [
        {
          "output_type": "stream",
          "text": [
            "(384,)\n",
            "(80563,)\n"
          ],
          "name": "stdout"
        }
      ]
    },
    {
      "cell_type": "code",
      "metadata": {
        "id": "FAb2Rqz3BwWo",
        "colab_type": "code",
        "colab": {
          "base_uri": "https://localhost:8080/",
          "height": 34
        },
        "outputId": "6392b5bb-01d0-49c5-a452-dd1328e42087"
      },
      "source": [
        "# but you can't add dataframe slices with different column names\n",
        "# i.e. pdf[d0] + pdf[d1] wont work\n",
        "# but you can add their underlying numpy arrays\n",
        "vis = (pdf[d0].values + pdf[d1].values)/2\n",
        "\n",
        "# so lets make a new DataFrame of size samples x channels from our vis computation\n",
        "vdf = pd.DataFrame(vis)\n",
        "print(type(vdf), vdf.shape)"
      ],
      "execution_count": 22,
      "outputs": [
        {
          "output_type": "stream",
          "text": [
            "<class 'pandas.core.frame.DataFrame'> (80563, 384)\n"
          ],
          "name": "stdout"
        }
      ]
    },
    {
      "cell_type": "code",
      "metadata": {
        "id": "SYg_cDAoAwzb",
        "colab_type": "code",
        "colab": {
          "base_uri": "https://localhost:8080/",
          "height": 153
        },
        "outputId": "77b2fd4d-dc1b-4915-eabe-f0d9ac5b5ba5"
      },
      "source": [
        "# now we can do more\n",
        "# let's make a new DataFrame out of our mean visibilities\n",
        "# then add U / V coordinates alongside\n",
        "rdf = pd.DataFrame(vdf.mean(axis=1).abs(), columns=['vis'])\n",
        "rdf['UU'] = pdf['UU']\n",
        "rdf['VV'] = pdf['VV']\n",
        "\n",
        "rdf.info()"
      ],
      "execution_count": 23,
      "outputs": [
        {
          "output_type": "stream",
          "text": [
            "<class 'pandas.core.frame.DataFrame'>\n",
            "RangeIndex: 80563 entries, 0 to 80562\n",
            "Data columns (total 3 columns):\n",
            "vis    80563 non-null float64\n",
            "UU     80563 non-null float64\n",
            "VV     80563 non-null float64\n",
            "dtypes: float64(3)\n",
            "memory usage: 1.8 MB\n"
          ],
          "name": "stdout"
        }
      ]
    },
    {
      "cell_type": "code",
      "metadata": {
        "id": "knHeLjdtJ-sR",
        "colab_type": "code",
        "colab": {
          "base_uri": "https://localhost:8080/",
          "height": 599
        },
        "outputId": "472c0231-a0db-4010-d539-36acdf3479f4"
      },
      "source": [
        "# lets visualize\n",
        "from matplotlib import cm\n",
        "\n",
        "rdf.plot(x='UU', y='VV', c='vis', kind='scatter', cmap=cm.get_cmap('Reds'), figsize=(16,10))"
      ],
      "execution_count": 24,
      "outputs": [
        {
          "output_type": "execute_result",
          "data": {
            "text/plain": [
              "<matplotlib.axes._subplots.AxesSubplot at 0x7ffad8c610f0>"
            ]
          },
          "metadata": {
            "tags": []
          },
          "execution_count": 24
        },
        {
          "output_type": "display_data",
          "data": {
            "image/png": "[encoded data removed]",
            "text/plain": [
              "<Figure size 1152x720 with 2 Axes>"
            ]
          },
          "metadata": {
            "tags": []
          }
        }
      ]
    }
  ]
}